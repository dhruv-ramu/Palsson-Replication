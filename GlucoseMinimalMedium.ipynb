{
 "cells": [
  {
   "cell_type": "code",
   "execution_count": 2,
   "id": "f803f5da-9607-4ebc-9fd3-a32954de4b4c",
   "metadata": {},
   "outputs": [
    {
     "name": "stdout",
     "output_type": "stream",
     "text": [
      "Objective value (growth rate): 0.982 1/h\n",
      "Top 5 fluxes:\n",
      "ATPS4rpp      55.815247\n",
      "EX_h2o_e      45.619430\n",
      "CYTBO3_4pp    35.149539\n",
      "NADH16pp      31.021723\n",
      "EX_co2_e      19.675223\n",
      "Name: fluxes, dtype: float64\n"
     ]
    }
   ],
   "source": [
    "import cobra\n",
    "\n",
    "# 1. Load the SBML model from the bigg_models folder\n",
    "model = cobra.io.read_sbml_model(\"bigg_models/iJO1366.xml\")\n",
    "\n",
    "# 2. Set the glucose uptake rate to –10 mmol/gDW/h (uptake is negative)\n",
    "model.reactions.EX_glc__D_e.lower_bound = -10\n",
    "\n",
    "# 3. Ensure oxygen is unconstrained (default -20 or lower)\n",
    "model.reactions.EX_o2_e.lower_bound = -20\n",
    "\n",
    "# 4. Run FBA\n",
    "solution = model.optimize()\n",
    "\n",
    "# 5. Report key outputs\n",
    "print(f\"Objective value (growth rate): {solution.objective_value:.3f} 1/h\")\n",
    "print(\"Top 5 fluxes:\")\n",
    "print(solution.fluxes.sort_values(ascending=False).head(5))\n"
   ]
  },
  {
   "cell_type": "code",
   "execution_count": 3,
   "id": "3b38250a-4e1d-467c-899c-6b221ec6ba7c",
   "metadata": {},
   "outputs": [
    {
     "name": "stdout",
     "output_type": "stream",
     "text": [
      "Mass balance OK: True\n"
     ]
    }
   ],
   "source": [
    "from cobra.util import solver\n",
    "\n",
    "# Returns True if the model has a non-zero objective value\n",
    "print(\"Mass balance OK:\", model.slim_optimize() > 0)"
   ]
  },
  {
   "cell_type": "code",
   "execution_count": null,
   "id": "ff44be5c-fb13-4dd1-b968-0ee803669f69",
   "metadata": {},
   "outputs": [],
   "source": [
    "exchanges = [rxn for rxn in model.reactions if rxn.id.startswith(\"EX_\")]\n",
    "\n",
    "print(\"Checking exchange bounds...\")\n",
    "for rxn in exchanges:\n",
    "    if rxn.lower_bound < -1000 or rxn.upper_bound > 1000:\n",
    "        print(f\"{rxn.id} has open bounds: {rxn.bounds}\")\n"
   ]
  }
 ],
 "metadata": {
  "kernelspec": {
   "display_name": "Python 3 (ipykernel)",
   "language": "python",
   "name": "python3"
  },
  "language_info": {
   "codemirror_mode": {
    "name": "ipython",
    "version": 3
   },
   "file_extension": ".py",
   "mimetype": "text/x-python",
   "name": "python",
   "nbconvert_exporter": "python",
   "pygments_lexer": "ipython3",
   "version": "3.10.15"
  }
 },
 "nbformat": 4,
 "nbformat_minor": 5
}
