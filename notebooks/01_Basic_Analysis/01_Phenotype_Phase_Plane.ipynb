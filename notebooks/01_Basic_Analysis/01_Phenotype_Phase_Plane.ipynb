{
  "cells": [
    {
      "cell_type": "raw",
      "metadata": {
        "vscode": {
          "languageId": "raw"
        }
      },
      "source": [
        "# Phenotype Phase Plane (PhPP) Analysis\n",
        "\n",
        "## Overview\n",
        "\n",
        "This notebook implements Phenotype Phase Plane (PhPP) analysis for E. coli metabolic modeling. PhPP analysis examines how growth rate changes as a function of two varying substrate uptake rates, revealing optimal metabolic strategies and trade-offs.\n",
        "\n",
        "## Key Concepts\n",
        "\n",
        "- **Phenotype Phase Plane**: A 2D plot showing growth rate as a function of two substrate uptake rates\n",
        "- **Line of Optimality (LO)**: The curve representing optimal combinations of substrate uptake rates\n",
        "- **Feasible Region**: The area where growth is possible given the constraints\n",
        "- **Metabolic Trade-offs**: How the organism balances different carbon sources\n",
        "\n",
        "## References\n",
        "\n",
        "- Edwards et al. (2001) - In silico predictions of Escherichia coli metabolic capabilities\n",
        "- Palsson Lab methodology for constraint-based metabolic modeling\n"
      ]
    },
    {
      "cell_type": "raw",
      "metadata": {
        "vscode": {
          "languageId": "raw"
        }
      },
      "source": [
        "## Setup and Imports\n"
      ]
    },
    {
      "cell_type": "code",
      "execution_count": null,
      "metadata": {},
      "outputs": [],
      "source": [
        "# Standard scientific computing imports\n",
        "import numpy as np\n",
        "import pandas as pd\n",
        "import matplotlib.pyplot as plt\n",
        "import seaborn as sns\n",
        "from scipy import stats\n",
        "import warnings\n",
        "warnings.filterwarnings('ignore')\n",
        "\n",
        "# COBRApy for metabolic modeling\n",
        "import cobra\n",
        "\n",
        "# Set plotting style\n",
        "plt.style.use('seaborn-v0_8')\n",
        "sns.set_palette(\"husl\")\n",
        "\n",
        "print(\"✅ All imports successful!\")\n",
        "print(f\"COBRApy version: {cobra.__version__}\")\n"
      ]
    },
    {
      "cell_type": "raw",
      "metadata": {
        "vscode": {
          "languageId": "raw"
        }
      },
      "source": [
        "## 1. Load and Setup Metabolic Model\n"
      ]
    },
    {
      "cell_type": "code",
      "execution_count": null,
      "metadata": {},
      "outputs": [],
      "source": [
        "# Load the iJO1366 model\n",
        "print(\"Loading iJO1366 metabolic model...\")\n",
        "model = cobra.io.read_sbml_model(\"bigg_models/iJO1366.xml\")\n",
        "\n",
        "print(f\"✅ Model loaded successfully!\")\n",
        "print(f\"   Genes: {len(model.genes)}\")\n",
        "print(f\"   Reactions: {len(model.reactions)}\")\n",
        "print(f\"   Metabolites: {len(model.metabolites)}\")\n",
        "print(f\"   Objective: {model.objective.expression}\")\n"
      ]
    },
    {
      "cell_type": "raw",
      "metadata": {
        "vscode": {
          "languageId": "raw"
        }
      },
      "source": [
        "## 2. Setup Medium Conditions\n"
      ]
    },
    {
      "cell_type": "code",
      "execution_count": null,
      "metadata": {},
      "outputs": [],
      "source": [
        "def setup_medium_conditions(model, glucose_uptake=0, acetate_uptake=0, oxygen_uptake=-20):\n",
        "    \"\"\"\n",
        "    Setup medium conditions for the metabolic model.\n",
        "    \n",
        "    Parameters:\n",
        "    -----------\n",
        "    model : cobra.Model\n",
        "        The metabolic model to configure\n",
        "    glucose_uptake : float\n",
        "        Glucose uptake rate (negative value)\n",
        "    acetate_uptake : float\n",
        "        Acetate uptake rate (negative value)\n",
        "    oxygen_uptake : float\n",
        "        Oxygen uptake rate (negative value)\n",
        "    \"\"\"\n",
        "    \n",
        "    # Get exchange reactions\n",
        "    glucose_rxn = model.reactions.get_by_id('EX_glc__D_e')\n",
        "    acetate_rxn = model.reactions.get_by_id('EX_ac_e')\n",
        "    oxygen_rxn = model.reactions.get_by_id('EX_o2_e')\n",
        "    \n",
        "    # Set bounds\n",
        "    glucose_rxn.bounds = (glucose_uptake, 0)\n",
        "    acetate_rxn.bounds = (acetate_uptake, 0)\n",
        "    oxygen_rxn.bounds = (oxygen_uptake, 0)\n",
        "    \n",
        "    # Allow essential nutrients\n",
        "    essential_exchanges = {\n",
        "        'EX_nh4_e': (-1000, 0),    # Ammonium\n",
        "        'EX_pi_e': (-1000, 0),     # Phosphate\n",
        "        'EX_so4_e': (-1000, 0),    # Sulfate\n",
        "        'EX_k_e': (-1000, 0),      # Potassium\n",
        "        'EX_na1_e': (-1000, 0),    # Sodium\n",
        "        'EX_mg2_e': (-1000, 0),    # Magnesium\n",
        "        'EX_ca2_e': (-1000, 0),    # Calcium\n",
        "        'EX_fe2_e': (-1000, 0),    # Iron\n",
        "        'EX_fe3_e': (-1000, 0),    # Iron\n",
        "        'EX_cl_e': (-1000, 0),     # Chloride\n",
        "        'EX_co2_e': (0, 1000),     # CO2 production\n",
        "        'EX_h2o_e': (-1000, 1000), # Water\n",
        "        'EX_h_e': (-1000, 1000),   # Protons\n",
        "    }\n",
        "    \n",
        "    for exchange_id, bounds in essential_exchanges.items():\n",
        "        try:\n",
        "            rxn = model.reactions.get_by_id(exchange_id)\n",
        "            rxn.bounds = bounds\n",
        "        except:\n",
        "            pass\n",
        "    \n",
        "    print(f\"✅ Medium conditions set:\")\n",
        "    print(f\"   Glucose uptake: {glucose_uptake} mmol/gDW/h\")\n",
        "    print(f\"   Acetate uptake: {acetate_uptake} mmol/gDW/h\")\n",
        "    print(f\"   Oxygen uptake: {oxygen_uptake} mmol/gDW/h\")\n"
      ]
    },
    {
      "cell_type": "raw",
      "metadata": {
        "vscode": {
          "languageId": "raw"
        }
      },
      "source": [
        "## 3. Phenotype Phase Plane Analysis\n"
      ]
    },
    {
      "cell_type": "code",
      "execution_count": null,
      "metadata": {},
      "outputs": [],
      "source": [
        "def generate_phpp_data(model, substrate1_range, substrate2_range, substrate1_id, substrate2_id):\n",
        "    \"\"\"\n",
        "    Generate phenotype phase plane data.\n",
        "    \n",
        "    Parameters:\n",
        "    -----------\n",
        "    model : cobra.Model\n",
        "        The metabolic model\n",
        "    substrate1_range : array-like\n",
        "        Range of values for first substrate\n",
        "    substrate2_range : array-like\n",
        "        Range of values for second substrate\n",
        "    substrate1_id : str\n",
        "        ID of first substrate exchange reaction\n",
        "    substrate2_id : str\n",
        "        ID of second substrate exchange reaction\n",
        "    \n",
        "    Returns:\n",
        "    --------\n",
        "    tuple : (X, Y, Z) arrays for plotting\n",
        "    \"\"\"\n",
        "    \n",
        "    X, Y = np.meshgrid(substrate1_range, substrate2_range)\n",
        "    Z = np.zeros_like(X)\n",
        "    \n",
        "    # Get exchange reactions\n",
        "    rxn1 = model.reactions.get_by_id(substrate1_id)\n",
        "    rxn2 = model.reactions.get_by_id(substrate2_id)\n",
        "    \n",
        "    print(f\"Generating PhPP data for {substrate1_id} vs {substrate2_id}...\")\n",
        "    \n",
        "    for i, val1 in enumerate(substrate1_range):\n",
        "        for j, val2 in enumerate(substrate2_range):\n",
        "            # Set bounds\n",
        "            rxn1.bounds = (val1, 0)\n",
        "            rxn2.bounds = (val2, 0)\n",
        "            \n",
        "            # Optimize\n",
        "            try:\n",
        "                solution = model.optimize()\n",
        "                if solution.status == 'optimal':\n",
        "                    Z[j, i] = solution.objective_value\n",
        "                else:\n",
        "                    Z[j, i] = 0\n",
        "            except:\n",
        "                Z[j, i] = 0\n",
        "    \n",
        "    return X, Y, Z\n"
      ]
    },
    {
      "cell_type": "raw",
      "metadata": {
        "vscode": {
          "languageId": "raw"
        }
      },
      "source": [
        "## 4. Glucose vs Oxygen PhPP Analysis\n"
      ]
    },
    {
      "cell_type": "code",
      "execution_count": null,
      "metadata": {},
      "outputs": [],
      "source": [
        "# Setup initial medium conditions\n",
        "setup_medium_conditions(model)\n",
        "\n",
        "# Define ranges for glucose vs oxygen analysis\n",
        "glucose_range = np.linspace(-15, 0, 31)  # -15 to 0 mmol/gDW/h\n",
        "oxygen_range = np.linspace(-25, 0, 26)   # -25 to 0 mmol/gDW/h\n",
        "\n",
        "# Generate PhPP data\n",
        "X_glc_o2, Y_glc_o2, Z_glc_o2 = generate_phpp_data(\n",
        "    model, glucose_range, oxygen_range, 'EX_glc__D_e', 'EX_o2_e'\n",
        ")\n"
      ]
    },
    {
      "cell_type": "code",
      "execution_count": null,
      "metadata": {},
      "outputs": [],
      "source": [
        "# Create visualization\n",
        "fig, (ax1, ax2) = plt.subplots(1, 2, figsize=(15, 6))\n",
        "\n",
        "# Contour plot\n",
        "contour = ax1.contourf(X_glc_o2, Y_glc_o2, Z_glc_o2, levels=20, cmap='viridis')\n",
        "ax1.contour(X_glc_o2, Y_glc_o2, Z_glc_o2, levels=10, colors='white', alpha=0.5, linewidths=0.5)\n",
        "ax1.set_xlabel('Glucose Uptake (mmol/gDW/h)')\n",
        "ax1.set_ylabel('Oxygen Uptake (mmol/gDW/h)')\n",
        "ax1.set_title('Glucose vs Oxygen Phenotype Phase Plane')\n",
        "plt.colorbar(contour, ax=ax1, label='Growth Rate (1/h)')\n",
        "\n",
        "# 3D surface plot\n",
        "ax2 = fig.add_subplot(122, projection='3d')\n",
        "surf = ax2.plot_surface(X_glc_o2, Y_glc_o2, Z_glc_o2, cmap='viridis', alpha=0.8)\n",
        "ax2.set_xlabel('Glucose Uptake (mmol/gDW/h)')\n",
        "ax2.set_ylabel('Oxygen Uptake (mmol/gDW/h)')\n",
        "ax2.set_zlabel('Growth Rate (1/h)')\n",
        "ax2.set_title('3D Growth Surface')\n",
        "\n",
        "plt.tight_layout()\n",
        "plt.show()\n",
        "\n",
        "# Print key statistics\n",
        "print(f\"\\n📊 Glucose vs Oxygen PhPP Statistics:\")\n",
        "print(f\"   Maximum growth rate: {Z_glc_o2.max():.3f} 1/h\")\n",
        "print(f\"   Optimal glucose uptake: {glucose_range[Z_glc_o2.argmax() // Z_glc_o2.shape[1]]:.1f} mmol/gDW/h\")\n",
        "print(f\"   Optimal oxygen uptake: {oxygen_range[Z_glc_o2.argmax() % Z_glc_o2.shape[0]]:.1f} mmol/gDW/h\")\n"
      ]
    },
    {
      "cell_type": "raw",
      "metadata": {
        "vscode": {
          "languageId": "raw"
        }
      },
      "source": [
        "## 5. Acetate vs Oxygen PhPP Analysis\n"
      ]
    },
    {
      "cell_type": "code",
      "execution_count": null,
      "metadata": {},
      "outputs": [],
      "source": [
        "# Define ranges for acetate vs oxygen analysis\n",
        "acetate_range = np.linspace(-10, 0, 21)  # -10 to 0 mmol/gDW/h\n",
        "oxygen_range_acetate = np.linspace(-20, 0, 21)  # -20 to 0 mmol/gDW/h\n",
        "\n",
        "# Generate PhPP data\n",
        "X_ac_o2, Y_ac_o2, Z_ac_o2 = generate_phpp_data(\n",
        "    model, acetate_range, oxygen_range_acetate, 'EX_ac_e', 'EX_o2_e'\n",
        ")\n"
      ]
    },
    {
      "cell_type": "code",
      "execution_count": null,
      "metadata": {},
      "outputs": [],
      "source": [
        "# Create visualization\n",
        "fig, (ax1, ax2) = plt.subplots(1, 2, figsize=(15, 6))\n",
        "\n",
        "# Contour plot\n",
        "contour = ax1.contourf(X_ac_o2, Y_ac_o2, Z_ac_o2, levels=20, cmap='plasma')\n",
        "ax1.contour(X_ac_o2, Y_ac_o2, Z_ac_o2, levels=10, colors='white', alpha=0.5, linewidths=0.5)\n",
        "ax1.set_xlabel('Acetate Uptake (mmol/gDW/h)')\n",
        "ax1.set_ylabel('Oxygen Uptake (mmol/gDW/h)')\n",
        "ax1.set_title('Acetate vs Oxygen Phenotype Phase Plane')\n",
        "plt.colorbar(contour, ax=ax1, label='Growth Rate (1/h)')\n",
        "\n",
        "# 3D surface plot\n",
        "ax2 = fig.add_subplot(122, projection='3d')\n",
        "surf = ax2.plot_surface(X_ac_o2, Y_ac_o2, Z_ac_o2, cmap='plasma', alpha=0.8)\n",
        "ax2.set_xlabel('Acetate Uptake (mmol/gDW/h)')\n",
        "ax2.set_ylabel('Oxygen Uptake (mmol/gDW/h)')\n",
        "ax2.set_zlabel('Growth Rate (1/h)')\n",
        "ax2.set_title('3D Growth Surface')\n",
        "\n",
        "plt.tight_layout()\n",
        "plt.show()\n",
        "\n",
        "# Print key statistics\n",
        "print(f\"\\n📊 Acetate vs Oxygen PhPP Statistics:\")\n",
        "print(f\"   Maximum growth rate: {Z_ac_o2.max():.3f} 1/h\")\n",
        "print(f\"   Optimal acetate uptake: {acetate_range[Z_ac_o2.argmax() // Z_ac_o2.shape[1]]:.1f} mmol/gDW/h\")\n",
        "print(f\"   Optimal oxygen uptake: {oxygen_range_acetate[Z_ac_o2.argmax() % Z_ac_o2.shape[0]]:.1f} mmol/gDW/h\")\n"
      ]
    },
    {
      "cell_type": "raw",
      "metadata": {
        "vscode": {
          "languageId": "raw"
        }
      },
      "source": [
        "## 6. Line of Optimality Analysis\n"
      ]
    },
    {
      "cell_type": "code",
      "execution_count": null,
      "metadata": {},
      "outputs": [],
      "source": [
        "def find_line_of_optimality(X, Y, Z, substrate_name):\n",
        "    \"\"\"\n",
        "    Find the line of optimality for a given substrate.\n",
        "    \n",
        "    Parameters:\n",
        "    -----------\n",
        "    X, Y, Z : arrays\n",
        "        PhPP data arrays\n",
        "    substrate_name : str\n",
        "        Name of the substrate for labeling\n",
        "    \n",
        "    Returns:\n",
        "    --------\n",
        "    tuple : (optimal_x, optimal_y) arrays\n",
        "    \"\"\"\n",
        "    \n",
        "    # Find maximum growth rate for each substrate value\n",
        "    optimal_x = []\n",
        "    optimal_y = []\n",
        "    \n",
        "    for i in range(X.shape[1]):\n",
        "        # Find maximum growth rate for this substrate value\n",
        "        max_idx = np.argmax(Z[:, i])\n",
        "        optimal_x.append(X[max_idx, i])\n",
        "        optimal_y.append(Y[max_idx, i])\n",
        "    \n",
        "    return np.array(optimal_x), np.array(optimal_y)\n",
        "\n",
        "# Find lines of optimality\n",
        "glc_opt_x, glc_opt_y = find_line_of_optimality(X_glc_o2, Y_glc_o2, Z_glc_o2, 'Glucose')\n",
        "ac_opt_x, ac_opt_y = find_line_of_optimality(X_ac_o2, Y_ac_o2, Z_ac_o2, 'Acetate')\n",
        "\n",
        "# Plot lines of optimality\n",
        "fig, (ax1, ax2) = plt.subplots(1, 2, figsize=(15, 6))\n",
        "\n",
        "# Glucose vs Oxygen\n",
        "contour1 = ax1.contourf(X_glc_o2, Y_glc_o2, Z_glc_o2, levels=20, cmap='viridis')\n",
        "ax1.plot(glc_opt_x, glc_opt_y, 'r-', linewidth=3, label='Line of Optimality')\n",
        "ax1.set_xlabel('Glucose Uptake (mmol/gDW/h)')\n",
        "ax1.set_ylabel('Oxygen Uptake (mmol/gDW/h)')\n",
        "ax1.set_title('Glucose vs Oxygen with Line of Optimality')\n",
        "ax1.legend()\n",
        "plt.colorbar(contour1, ax=ax1, label='Growth Rate (1/h)')\n",
        "\n",
        "# Acetate vs Oxygen\n",
        "contour2 = ax2.contourf(X_ac_o2, Y_ac_o2, Z_ac_o2, levels=20, cmap='plasma')\n",
        "ax2.plot(ac_opt_x, ac_opt_y, 'r-', linewidth=3, label='Line of Optimality')\n",
        "ax2.set_xlabel('Acetate Uptake (mmol/gDW/h)')\n",
        "ax2.set_ylabel('Oxygen Uptake (mmol/gDW/h)')\n",
        "ax2.set_title('Acetate vs Oxygen with Line of Optimality')\n",
        "ax2.legend()\n",
        "plt.colorbar(contour2, ax=ax2, label='Growth Rate (1/h)')\n",
        "\n",
        "plt.tight_layout()\n",
        "plt.show()\n",
        "\n",
        "print(\"\\n📈 Lines of Optimality Analysis:\")\n",
        "print(\"   The red lines show the optimal oxygen uptake for each substrate uptake rate.\")\n",
        "print(\"   These represent the most efficient metabolic strategies.\")\n"
      ]
    },
    {
      "cell_type": "raw",
      "metadata": {
        "vscode": {
          "languageId": "raw"
        }
      },
      "source": [
        "## 7. Growth Rate Comparison\n"
      ]
    },
    {
      "cell_type": "code",
      "execution_count": null,
      "metadata": {},
      "outputs": [],
      "source": [
        "# Compare maximum growth rates\n",
        "max_glucose_growth = Z_glc_o2.max()\n",
        "max_acetate_growth = Z_ac_o2.max()\n",
        "\n",
        "# Create comparison plot\n",
        "fig, ax = plt.subplots(figsize=(10, 6))\n",
        "\n",
        "substrates = ['Glucose', 'Acetate']\n",
        "max_growths = [max_glucose_growth, max_acetate_growth]\n",
        "colors = ['#2E86AB', '#A23B72']\n",
        "\n",
        "bars = ax.bar(substrates, max_growths, color=colors, alpha=0.8)\n",
        "ax.set_ylabel('Maximum Growth Rate (1/h)')\n",
        "ax.set_title('Maximum Growth Rate Comparison')\n",
        "ax.grid(True, alpha=0.3)\n",
        "\n",
        "# Add value labels on bars\n",
        "for bar, growth in zip(bars, max_growths):\n",
        "    height = bar.get_height()\n",
        "    ax.text(bar.get_x() + bar.get_width()/2., height,\n",
        "            f'{growth:.3f}', ha='center', va='bottom')\n",
        "\n",
        "plt.tight_layout()\n",
        "plt.show()\n",
        "\n",
        "print(f\"\\n📊 Growth Rate Comparison:\")\n",
        "print(f\"   Glucose maximum growth: {max_glucose_growth:.3f} 1/h\")\n",
        "print(f\"   Acetate maximum growth: {max_acetate_growth:.3f} 1/h\")\n",
        "print(f\"   Glucose is {max_glucose_growth/max_acetate_growth:.1f}x more efficient than acetate\")\n"
      ]
    },
    {
      "cell_type": "raw",
      "metadata": {
        "vscode": {
          "languageId": "raw"
        }
      },
      "source": [
        "# Phenotype Phase Plane (PhPP) Analysis\n",
        "\n",
        "## Overview\n",
        "\n",
        "This notebook implements Phenotype Phase Plane (PhPP) analysis for E. coli metabolic modeling. PhPP analysis examines how growth rate changes as a function of two varying substrate uptake rates, revealing optimal metabolic strategies and trade-offs.\n",
        "\n",
        "## Key Concepts\n",
        "\n",
        "- **Phenotype Phase Plane**: A 2D plot showing growth rate as a function of two substrate uptake rates\n",
        "- **Line of Optimality (LO)**: The curve representing optimal combinations of substrate uptake rates\n",
        "- **Feasible Region**: The area where growth is possible given the constraints\n",
        "- **Metabolic Trade-offs**: How the organism balances different carbon sources\n",
        "\n",
        "## References\n",
        "\n",
        "- Edwards et al. (2001) - In silico predictions of Escherichia coli metabolic capabilities\n",
        "- Palsson Lab methodology for constraint-based metabolic modeling\n"
      ]
    }
  ],
  "metadata": {
    "language_info": {
      "name": "python"
    }
  },
  "nbformat": 4,
  "nbformat_minor": 2
}
